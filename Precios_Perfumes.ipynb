{
 "cells": [
  {
   "cell_type": "code",
   "execution_count": null,
   "metadata": {},
   "outputs": [],
   "source": [
    "import pandas as pd\n",
    "from datetime import datetime\n",
    "import os.path as path"
   ]
  },
  {
   "cell_type": "code",
   "execution_count": null,
   "metadata": {},
   "outputs": [],
   "source": [
    "def crear_df(ruta):\n",
    "    if path.exists(ruta):\n",
    "        df = pd.read_csv(ruta)\n",
    "        return df\n",
    "    else:\n",
    "        df = pd.DataFrame(\n",
    "            columns=[\n",
    "                \"Marca\",\n",
    "                \"Nombre\",\n",
    "                \"Precio_actual\",\n",
    "                \"Precio_por_100_ml\",\n",
    "                \"ml\",\n",
    "                \"Fecha\",\n",
    "                \"Hora\",\n",
    "            ],\n",
    "            index=[0],\n",
    "        )\n",
    "\n",
    "        df.drop(df.index[0], inplace=True)  ## Elimina la primera fila vacia\n",
    "        df.to_csv(ruta, index=False)\n",
    "\n",
    "    return df"
   ]
  },
  {
   "cell_type": "code",
   "execution_count": null,
   "metadata": {},
   "outputs": [],
   "source": [
    "def escribir_df(df, precio, calc, ml, marca, nombre):\n",
    "    now = datetime.today()\n",
    "    fecha, hora = now.strftime(\"%d-%m-%Y %H:%M:%S\").split(\" \")\n",
    "    nueva_fila = [marca, nombre, precio, calc, ml, fecha, hora]\n",
    "    # df = pd.concat([df, pd.DataFrame([nueva_fila])], ignore_index=True)\n",
    "    df.loc[len(df)] = nueva_fila  # only use with a RangeIndex!\n",
    "\n",
    "    return df"
   ]
  },
  {
   "cell_type": "code",
   "execution_count": null,
   "metadata": {},
   "outputs": [],
   "source": [
    "salir = True\n",
    "ruta = \"prueba.csv\"\n",
    "df = crear_df(ruta)\n",
    "while salir:\n",
    "    marca = input(\"Marca: \")\n",
    "    nombre = input(\"Nombre: \")\n",
    "    if nombre == \"\" or marca == \"\":\n",
    "        print(\"Adios\")\n",
    "        display(df)\n",
    "        salir = False\n",
    "    else:\n",
    "        precio = input(\"Precio: \")\n",
    "        ml = input(\"ml: \")\n",
    "\n",
    "        try:\n",
    "            precio = float(precio)\n",
    "            ml = float(ml)\n",
    "        except ValueError:\n",
    "            print(\"No son numeros, asi que se sale de la ejecucion...\")\n",
    "\n",
    "        if isinstance(precio, float) and isinstance(ml, float):\n",
    "            calc = 100.0 * precio / ml\n",
    "            calc = round(calc)\n",
    "\n",
    "            df = escribir_df(df, precio, calc, ml, marca, nombre)\n",
    "            df.to_csv(ruta, index=False, sep=\",\")\n",
    "\n",
    "        else:\n",
    "            display(df)\n",
    "            salir = False"
   ]
  }
 ],
 "metadata": {
  "kernelspec": {
   "display_name": "base",
   "language": "python",
   "name": "python3"
  },
  "language_info": {
   "codemirror_mode": {
    "name": "ipython",
    "version": 3
   },
   "file_extension": ".py",
   "mimetype": "text/x-python",
   "name": "python",
   "nbconvert_exporter": "python",
   "pygments_lexer": "ipython3",
   "version": "3.11.5"
  }
 },
 "nbformat": 4,
 "nbformat_minor": 2
}
