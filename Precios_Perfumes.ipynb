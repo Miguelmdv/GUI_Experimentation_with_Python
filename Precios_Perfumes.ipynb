{
 "cells": [
  {
   "cell_type": "code",
   "execution_count": 42,
   "metadata": {},
   "outputs": [],
   "source": [
    "import pandas as pd\n",
    "from datetime import datetime\n",
    "import os.path as path"
   ]
  },
  {
   "cell_type": "code",
   "execution_count": 33,
   "metadata": {},
   "outputs": [],
   "source": [
    "def crear_df(ruta):\n",
    "    if path.exists(ruta):\n",
    "        df = pd.read_csv(ruta)\n",
    "        return df\n",
    "    else:\n",
    "        df = pd.DataFrame(\n",
    "            columns=[\n",
    "                \"Marca\",\n",
    "                \"Nombre\",\n",
    "                \"Precio_actual\",\n",
    "                \"Precio_por_100_ml\",\n",
    "                \"ml\",\n",
    "                \"Fecha\",\n",
    "                \"Hora\",\n",
    "            ],\n",
    "            index=[0],\n",
    "        )\n",
    "\n",
    "        df.drop(df.index[0], inplace=True)  ## Elimina la primera fila vacia\n",
    "        df.to_csv(ruta, index=False)\n",
    "\n",
    "    return df"
   ]
  },
  {
   "cell_type": "code",
   "execution_count": 34,
   "metadata": {},
   "outputs": [],
   "source": [
    "def escribir_df(df, precio, calc, ml, marca, nombre):\n",
    "    now = datetime.today()\n",
    "    fecha, hora = now.strftime(\"%d-%m-%Y %H:%M:%S\").split(\" \")\n",
    "    nueva_fila = [marca, nombre, precio, calc, ml, fecha, hora]\n",
    "    # df = pd.concat([df, pd.DataFrame([nueva_fila])], ignore_index=True)\n",
    "    df.loc[len(df)] = nueva_fila  # only use with a RangeIndex!\n",
    "\n",
    "    return df"
   ]
  },
  {
   "cell_type": "code",
   "execution_count": 35,
   "metadata": {},
   "outputs": [
    {
     "name": "stdout",
     "output_type": "stream",
     "text": [
      "Adios\n"
     ]
    },
    {
     "data": {
      "text/html": [
       "<div>\n",
       "<style scoped>\n",
       "    .dataframe tbody tr th:only-of-type {\n",
       "        vertical-align: middle;\n",
       "    }\n",
       "\n",
       "    .dataframe tbody tr th {\n",
       "        vertical-align: top;\n",
       "    }\n",
       "\n",
       "    .dataframe thead th {\n",
       "        text-align: right;\n",
       "    }\n",
       "</style>\n",
       "<table border=\"1\" class=\"dataframe\">\n",
       "  <thead>\n",
       "    <tr style=\"text-align: right;\">\n",
       "      <th></th>\n",
       "      <th>Marca</th>\n",
       "      <th>Nombre</th>\n",
       "      <th>Precio_actual</th>\n",
       "      <th>Precio_por_100_ml</th>\n",
       "      <th>ml</th>\n",
       "      <th>Fecha</th>\n",
       "      <th>Hora</th>\n",
       "    </tr>\n",
       "  </thead>\n",
       "  <tbody>\n",
       "    <tr>\n",
       "      <th>0</th>\n",
       "      <td>Algo</td>\n",
       "      <td>piña</td>\n",
       "      <td>52.3</td>\n",
       "      <td>50</td>\n",
       "      <td>105.0</td>\n",
       "      <td>11-10-2023</td>\n",
       "      <td>12:51:53</td>\n",
       "    </tr>\n",
       "    <tr>\n",
       "      <th>1</th>\n",
       "      <td>asdqw</td>\n",
       "      <td>caaa</td>\n",
       "      <td>45.0</td>\n",
       "      <td>205</td>\n",
       "      <td>22.0</td>\n",
       "      <td>11-10-2023</td>\n",
       "      <td>12:56:27</td>\n",
       "    </tr>\n",
       "  </tbody>\n",
       "</table>\n",
       "</div>"
      ],
      "text/plain": [
       "   Marca Nombre  Precio_actual  Precio_por_100_ml     ml       Fecha      Hora\n",
       "0   Algo   piña           52.3                 50  105.0  11-10-2023  12:51:53\n",
       "1  asdqw   caaa           45.0                205   22.0  11-10-2023  12:56:27"
      ]
     },
     "metadata": {},
     "output_type": "display_data"
    }
   ],
   "source": [
    "salir = True\n",
    "ruta = \"prueba.csv\"\n",
    "df = crear_df(ruta)\n",
    "while salir:\n",
    "    marca = input(\"Marca: \")\n",
    "    nombre = input(\"Nombre: \")\n",
    "    if nombre == \"\" or marca == \"\":\n",
    "        print(\"Adios\")\n",
    "        display(df)\n",
    "        salir = False\n",
    "    else:\n",
    "        precio = input(\"Precio: \")\n",
    "        ml = input(\"ml: \")\n",
    "\n",
    "        try:\n",
    "            precio = float(precio)\n",
    "            ml = float(ml)\n",
    "        except ValueError:\n",
    "            print(\"No son numeros, asi que se sale de la ejecucion...\")\n",
    "\n",
    "        if type(precio) == float and type(ml) == float:\n",
    "            calc = 100.0 * precio / ml\n",
    "            calc = round(calc)\n",
    "\n",
    "            df = escribir_df(df, precio, calc, ml, marca, nombre)\n",
    "            df.to_csv(ruta, index=False, sep=\",\")\n",
    "\n",
    "        else:\n",
    "            display(df)\n",
    "            salir = False"
   ]
  }
 ],
 "metadata": {
  "kernelspec": {
   "display_name": "base",
   "language": "python",
   "name": "python3"
  },
  "language_info": {
   "codemirror_mode": {
    "name": "ipython",
    "version": 3
   },
   "file_extension": ".py",
   "mimetype": "text/x-python",
   "name": "python",
   "nbconvert_exporter": "python",
   "pygments_lexer": "ipython3",
   "version": "3.11.5"
  }
 },
 "nbformat": 4,
 "nbformat_minor": 2
}
